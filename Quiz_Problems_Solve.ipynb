{
  "nbformat": 4,
  "nbformat_minor": 0,
  "metadata": {
    "colab": {
      "name": "Quiz_Problems_Solve.ipynb",
      "provenance": [],
      "authorship_tag": "ABX9TyPOuEUHBWONHaNv/NpN5n0Y",
      "include_colab_link": true
    },
    "kernelspec": {
      "name": "python3",
      "display_name": "Python 3"
    }
  },
  "cells": [
    {
      "cell_type": "markdown",
      "metadata": {
        "id": "view-in-github",
        "colab_type": "text"
      },
      "source": [
        "<a href=\"https://colab.research.google.com/github/pratikshas8080/Pie_Charts_Using_python/blob/main/Quiz_Problems_Solve.ipynb\" target=\"_parent\"><img src=\"https://colab.research.google.com/assets/colab-badge.svg\" alt=\"Open In Colab\"/></a>"
      ]
    },
    {
      "cell_type": "code",
      "metadata": {
        "colab": {
          "base_uri": "https://localhost:8080/"
        },
        "id": "q1UVXXfjtBob",
        "outputId": "0c9d038b-38c4-4477-9472-fd06e5fa1905"
      },
      "source": [
        "List=[1.0,1,2,3]\n",
        "List.remove(1)\n",
        "p=List.count(1)\n",
        "print(p)"
      ],
      "execution_count": 1,
      "outputs": [
        {
          "output_type": "stream",
          "text": [
            "1\n"
          ],
          "name": "stdout"
        }
      ]
    },
    {
      "cell_type": "code",
      "metadata": {
        "colab": {
          "base_uri": "https://localhost:8080/"
        },
        "id": "bDZD9L7VtUEY",
        "outputId": "0e4b737f-ee44-4dc0-ca4d-de2c023c1cc4"
      },
      "source": [
        "x=[1,3,8,6,8,9]\n",
        "y=set([1,4,7,9,7,4])\n",
        "print(len(x) + len(y))"
      ],
      "execution_count": 2,
      "outputs": [
        {
          "output_type": "stream",
          "text": [
            "10\n"
          ],
          "name": "stdout"
        }
      ]
    }
  ]
}