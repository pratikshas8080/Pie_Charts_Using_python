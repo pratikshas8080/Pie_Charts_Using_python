{
  "nbformat": 4,
  "nbformat_minor": 0,
  "metadata": {
    "colab": {
      "name": "Quiz_Problems_Solve.ipynb",
      "provenance": [],
      "authorship_tag": "ABX9TyM9V8HrIwEHrZYmO+Tvf1ew",
      "include_colab_link": true
    },
    "kernelspec": {
      "name": "python3",
      "display_name": "Python 3"
    }
  },
  "cells": [
    {
      "cell_type": "markdown",
      "metadata": {
        "id": "view-in-github",
        "colab_type": "text"
      },
      "source": [
        "<a href=\"https://colab.research.google.com/github/pratikshas8080/Pie_Charts_Using_python/blob/main/Quiz_Problems_Solve.ipynb\" target=\"_parent\"><img src=\"https://colab.research.google.com/assets/colab-badge.svg\" alt=\"Open In Colab\"/></a>"
      ]
    },
    {
      "cell_type": "code",
      "metadata": {
        "colab": {
          "base_uri": "https://localhost:8080/"
        },
        "id": "q1UVXXfjtBob",
        "outputId": "0c9d038b-38c4-4477-9472-fd06e5fa1905"
      },
      "source": [
        "List=[1.0,1,2,3]\n",
        "List.remove(1)\n",
        "p=List.count(1)\n",
        "print(p)"
      ],
      "execution_count": 1,
      "outputs": [
        {
          "output_type": "stream",
          "text": [
            "1\n"
          ],
          "name": "stdout"
        }
      ]
    },
    {
      "cell_type": "code",
      "metadata": {
        "colab": {
          "base_uri": "https://localhost:8080/"
        },
        "id": "bDZD9L7VtUEY",
        "outputId": "0e4b737f-ee44-4dc0-ca4d-de2c023c1cc4"
      },
      "source": [
        "x=[1,3,8,6,8,9]\n",
        "y=set([1,4,7,9,7,4])\n",
        "print(len(x) + len(y))"
      ],
      "execution_count": 2,
      "outputs": [
        {
          "output_type": "stream",
          "text": [
            "10\n"
          ],
          "name": "stdout"
        }
      ]
    },
    {
      "cell_type": "code",
      "metadata": {
        "colab": {
          "base_uri": "https://localhost:8080/"
        },
        "id": "EU5Wk-_0t1Ij",
        "outputId": "e7ceb58b-4574-42ff-dfc3-22c893c86183"
      },
      "source": [
        "s=\"level\"\n",
        "rev=s[::-1]\n",
        "print(rev)"
      ],
      "execution_count": 3,
      "outputs": [
        {
          "output_type": "stream",
          "text": [
            "level\n"
          ],
          "name": "stdout"
        }
      ]
    },
    {
      "cell_type": "markdown",
      "metadata": {
        "id": "bGLIspxEuziP"
      },
      "source": [
        "#Check Ip Address Using **Python**"
      ]
    },
    {
      "cell_type": "code",
      "metadata": {
        "colab": {
          "base_uri": "https://localhost:8080/"
        },
        "id": "9f9zsYhQuFe0",
        "outputId": "77897645-a5f7-4c9b-bac9-4f4582d72b23"
      },
      "source": [
        "#import Socket\n",
        "import socket\n",
        "hostn=socket.gethostname()\n",
        "\n",
        "IPAd=socket.gethostbyname(hostn)\n",
        "\n",
        "print(\"IP Address is:\"+IPAd)"
      ],
      "execution_count": 5,
      "outputs": [
        {
          "output_type": "stream",
          "text": [
            "IP Address is:172.28.0.2\n"
          ],
          "name": "stdout"
        }
      ]
    }
  ]
}